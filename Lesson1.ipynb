{
 "metadata": {
  "language_info": {
   "codemirror_mode": {
    "name": "ipython",
    "version": 3
   },
   "file_extension": ".py",
   "mimetype": "text/x-python",
   "name": "python",
   "nbconvert_exporter": "python",
   "pygments_lexer": "ipython3",
   "version": "3.8.6"
  },
  "orig_nbformat": 2,
  "kernelspec": {
   "name": "python386jvsc74a57bd031f2aee4e71d21fbe5cf8b01ff0e069b9275f58929596ceb00d14d90e3e16cd6",
   "display_name": "Python 3.8.6 64-bit"
  },
  "metadata": {
   "interpreter": {
    "hash": "31f2aee4e71d21fbe5cf8b01ff0e069b9275f58929596ceb00d14d90e3e16cd6"
   }
  }
 },
 "nbformat": 4,
 "nbformat_minor": 2,
 "cells": [
  {
   "source": [
    "# Практическое задание к 1 Уроку.\n"
   ],
   "cell_type": "markdown",
   "metadata": {}
  },
  {
   "source": [
    "# 1  Задание\n",
    "## Из колоды в 52 карты извлекаются случайным образом 4 карты.\n",
    "  + a) Найти вероятность того, что все карты – крести.\n",
    "  + б) Найти вероятность, что среди 4-х карт окажется хотя бы один туз."
   ],
   "cell_type": "markdown",
   "metadata": {}
  },
  {
   "cell_type": "code",
   "execution_count": 2,
   "metadata": {},
   "outputs": [],
   "source": [
    "from math import factorial"
   ]
  },
  {
   "cell_type": "code",
   "execution_count": 3,
   "metadata": {},
   "outputs": [],
   "source": [
    "def combinations(n, k):\n",
    "    return int(factorial(n) / (factorial(k) * factorial(n - k)))"
   ]
  },
  {
   "cell_type": "code",
   "execution_count": 19,
   "metadata": {},
   "outputs": [
    {
     "output_type": "execute_result",
     "data": {
      "text/plain": [
       "0.0026"
      ]
     },
     "metadata": {},
     "execution_count": 19
    }
   ],
   "source": [
    "# Количество комбинаций крестовых карт\n",
    "clubs = combinations(13, 4)\n",
    "\n",
    "# Количество комбинаций по 4 карты\n",
    "maxcombo = combinations(52, 4)\n",
    "\n",
    "# Вероятность того, что все карты – крести\n",
    "round(clubs / maxcombo, 4)\n",
    "\n",
    "\n"
   ]
  },
  {
   "cell_type": "code",
   "execution_count": 18,
   "metadata": {},
   "outputs": [
    {
     "output_type": "execute_result",
     "data": {
      "text/plain": [
       "0.2813"
      ]
     },
     "metadata": {},
     "execution_count": 18
    }
   ],
   "source": [
    "# Вероятность, что среди 4-х карт окажется хотя бы один туз\n",
    "ace = combinations(48, 4)\n",
    "round((maxcombo - ace)/maxcombo, 4)\n"
   ]
  },
  {
   "source": [
    "# 2 Задание\n",
    " + На входной двери подъезда установлен кодовый замок, содержащий десять кнопок с цифрами от 0 до 9.\n",
    " + Код содержит три цифры, которые нужно нажать одновременно.\n",
    " + Какова вероятность того, что человек, не знающий код, откроет дверь с первой попытки?"
   ],
   "cell_type": "markdown",
   "metadata": {}
  },
  {
   "cell_type": "code",
   "execution_count": 42,
   "metadata": {},
   "outputs": [
    {
     "output_type": "execute_result",
     "data": {
      "text/plain": [
       "0.00833"
      ]
     },
     "metadata": {},
     "execution_count": 42
    }
   ],
   "source": [
    "chance = 1 / combinations(10, 3)\n",
    "round(chance, 5)"
   ]
  },
  {
   "source": [
    "# 3 Задание\n",
    " В ящике имеется 15 деталей, из которых 9 окрашены.\n",
    " Рабочий случайным образом извлекает 3 детали.\n",
    " Какова вероятность того, что все извлеченные детали окрашены?"
   ],
   "cell_type": "markdown",
   "metadata": {}
  },
  {
   "source": [
    "color = combinations(9, 3) / combinations(15, 3)\n",
    "round(color, 5) \n"
   ],
   "cell_type": "code",
   "metadata": {},
   "execution_count": 43,
   "outputs": [
    {
     "output_type": "execute_result",
     "data": {
      "text/plain": [
       "0.18462"
      ]
     },
     "metadata": {},
     "execution_count": 43
    }
   ]
  },
  {
   "source": [
    "# 4 Задание\n",
    " В лотерее 100 билетов. Из них 2 выигрышных.\n",
    " Какова вероятность того, что 2 приобретенных билета окажутся выигрышными?"
   ],
   "cell_type": "markdown",
   "metadata": {}
  },
  {
   "cell_type": "code",
   "execution_count": 39,
   "metadata": {},
   "outputs": [
    {
     "output_type": "execute_result",
     "data": {
      "text/plain": [
       "0.0002"
      ]
     },
     "metadata": {},
     "execution_count": 39
    }
   ],
   "source": [
    "round(1 / combinations(100, 2), 5) "
   ]
  }
 ]
}